{
 "cells": [
  {
   "cell_type": "code",
   "execution_count": 1,
   "id": "27d709cc",
   "metadata": {},
   "outputs": [],
   "source": [
    "# About TextBlob?\n",
    "#TextBlob is a python library and offers a simple API to access its methods and perform basic NLP tasks. "
   ]
  },
  {
   "cell_type": "code",
   "execution_count": 2,
   "id": "7507e70e",
   "metadata": {},
   "outputs": [],
   "source": [
    "from textblob import TextBlob"
   ]
  },
  {
   "cell_type": "code",
   "execution_count": 10,
   "id": "38ad70eb",
   "metadata": {},
   "outputs": [],
   "source": [
    "happy= 'am happy today'\n",
    "happytext = TextBlob(happy)\n",
    "\n",
    "\n",
    "sad = 'i feel sick today'\n",
    "sadtext = TextBlob(sad)\n",
    "\n",
    "sad1 = '''i feel sad\n",
    "'''\n",
    "sadtext1 = TextBlob(sad1)"
   ]
  },
  {
   "cell_type": "code",
   "execution_count": 11,
   "id": "85ef8ed4",
   "metadata": {},
   "outputs": [
    {
     "name": "stdout",
     "output_type": "stream",
     "text": [
      "Sentiment(polarity=0.8, subjectivity=1.0)\n",
      "0.8\n"
     ]
    }
   ],
   "source": [
    "#happy Sentiment Analysis\n",
    "print(happytext.sentiment)\n",
    "print(happytext.sentiment.polarity)"
   ]
  },
  {
   "cell_type": "code",
   "execution_count": 12,
   "id": "9844cd4b",
   "metadata": {},
   "outputs": [
    {
     "name": "stdout",
     "output_type": "stream",
     "text": [
      "Sentiment(polarity=-0.7142857142857143, subjectivity=0.8571428571428571)\n",
      "-0.7142857142857143\n"
     ]
    }
   ],
   "source": [
    "#sad Sentiment Analysis\n",
    "print(sadtext.sentiment)\n",
    "print(sadtext.sentiment.polarity)"
   ]
  },
  {
   "cell_type": "code",
   "execution_count": 13,
   "id": "53f367d1",
   "metadata": {},
   "outputs": [
    {
     "name": "stdout",
     "output_type": "stream",
     "text": [
      "Sentiment(polarity=-0.5, subjectivity=1.0)\n",
      "-0.5\n"
     ]
    }
   ],
   "source": [
    "#sad Sentiment Analysis\n",
    "print(sadtext1.sentiment)\n",
    "print(sadtext1.sentiment.polarity)"
   ]
  },
  {
   "cell_type": "code",
   "execution_count": 15,
   "id": "2dfde4c7",
   "metadata": {},
   "outputs": [
    {
     "name": "stdout",
     "output_type": "stream",
     "text": [
      "Sentiment(polarity=1.0, subjectivity=0.75)\n",
      "1.0\n"
     ]
    }
   ],
   "source": [
    "testimonial = TextBlob(\"The food was great!\")\n",
    "print(testimonial.sentiment)\n",
    "print(testimonial.sentiment.polarity)"
   ]
  },
  {
   "cell_type": "code",
   "execution_count": 20,
   "id": "7e7698d9",
   "metadata": {},
   "outputs": [
    {
     "name": "stdout",
     "output_type": "stream",
     "text": [
      "Sentiment(polarity=0.0, subjectivity=0.0)\n"
     ]
    }
   ],
   "source": [
    "text = TextBlob('you are killing it')\n",
    "print(text.sentiment)"
   ]
  },
  {
   "cell_type": "code",
   "execution_count": null,
   "id": "d8f7eba9",
   "metadata": {},
   "outputs": [],
   "source": []
  }
 ],
 "metadata": {
  "kernelspec": {
   "display_name": "Python 3.9.4 64-bit",
   "language": "python",
   "name": "python394jvsc74a57bd0916dbcbb3f70747c44a77c7bcd40155683ae19c65e1c03b4aa3499c5328201f1"
  },
  "language_info": {
   "codemirror_mode": {
    "name": "ipython",
    "version": 3
   },
   "file_extension": ".py",
   "mimetype": "text/x-python",
   "name": "python",
   "nbconvert_exporter": "python",
   "pygments_lexer": "ipython3",
   "version": "3.9.5"
  }
 },
 "nbformat": 4,
 "nbformat_minor": 5
}
